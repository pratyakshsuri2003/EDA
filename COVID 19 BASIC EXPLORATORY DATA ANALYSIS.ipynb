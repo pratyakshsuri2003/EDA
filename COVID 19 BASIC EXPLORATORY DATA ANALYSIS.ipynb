{
 "cells": [
  {
   "cell_type": "code",
   "execution_count": 1,
   "id": "dc74a412",
   "metadata": {},
   "outputs": [],
   "source": [
    "import pandas as pd\n",
    "import numpy as np\n",
    "import matplotlib.pyplot as plt\n",
    "%matplotlib inline"
   ]
  },
  {
   "cell_type": "code",
   "execution_count": 2,
   "id": "94028db2",
   "metadata": {},
   "outputs": [
    {
     "data": {
      "text/html": [
       "<div>\n",
       "<style scoped>\n",
       "    .dataframe tbody tr th:only-of-type {\n",
       "        vertical-align: middle;\n",
       "    }\n",
       "\n",
       "    .dataframe tbody tr th {\n",
       "        vertical-align: top;\n",
       "    }\n",
       "\n",
       "    .dataframe thead th {\n",
       "        text-align: right;\n",
       "    }\n",
       "</style>\n",
       "<table border=\"1\" class=\"dataframe\">\n",
       "  <thead>\n",
       "    <tr style=\"text-align: right;\">\n",
       "      <th></th>\n",
       "      <th>Date</th>\n",
       "      <th>State</th>\n",
       "      <th>Region</th>\n",
       "      <th>Confirmed</th>\n",
       "      <th>Deaths</th>\n",
       "      <th>Recovered</th>\n",
       "    </tr>\n",
       "  </thead>\n",
       "  <tbody>\n",
       "    <tr>\n",
       "      <th>0</th>\n",
       "      <td>4/29/2020</td>\n",
       "      <td>NaN</td>\n",
       "      <td>Afghanistan</td>\n",
       "      <td>1939</td>\n",
       "      <td>60</td>\n",
       "      <td>252</td>\n",
       "    </tr>\n",
       "    <tr>\n",
       "      <th>1</th>\n",
       "      <td>4/29/2020</td>\n",
       "      <td>NaN</td>\n",
       "      <td>Albania</td>\n",
       "      <td>766</td>\n",
       "      <td>30</td>\n",
       "      <td>455</td>\n",
       "    </tr>\n",
       "    <tr>\n",
       "      <th>2</th>\n",
       "      <td>4/29/2020</td>\n",
       "      <td>NaN</td>\n",
       "      <td>Algeria</td>\n",
       "      <td>3848</td>\n",
       "      <td>444</td>\n",
       "      <td>1702</td>\n",
       "    </tr>\n",
       "    <tr>\n",
       "      <th>3</th>\n",
       "      <td>4/29/2020</td>\n",
       "      <td>NaN</td>\n",
       "      <td>Andorra</td>\n",
       "      <td>743</td>\n",
       "      <td>42</td>\n",
       "      <td>423</td>\n",
       "    </tr>\n",
       "    <tr>\n",
       "      <th>4</th>\n",
       "      <td>4/29/2020</td>\n",
       "      <td>NaN</td>\n",
       "      <td>Angola</td>\n",
       "      <td>27</td>\n",
       "      <td>2</td>\n",
       "      <td>7</td>\n",
       "    </tr>\n",
       "  </tbody>\n",
       "</table>\n",
       "</div>"
      ],
      "text/plain": [
       "        Date State       Region  Confirmed  Deaths  Recovered\n",
       "0  4/29/2020   NaN  Afghanistan       1939      60        252\n",
       "1  4/29/2020   NaN      Albania        766      30        455\n",
       "2  4/29/2020   NaN      Algeria       3848     444       1702\n",
       "3  4/29/2020   NaN      Andorra        743      42        423\n",
       "4  4/29/2020   NaN       Angola         27       2          7"
      ]
     },
     "execution_count": 2,
     "metadata": {},
     "output_type": "execute_result"
    }
   ],
   "source": [
    "df = pd.read_csv(r\"F:\\EDA\\COVID 19\\covid_19_data.csv\")\n",
    "df.head()"
   ]
  },
  {
   "cell_type": "code",
   "execution_count": 3,
   "id": "55b3433c",
   "metadata": {},
   "outputs": [
    {
     "data": {
      "text/plain": [
       "64941"
      ]
     },
     "execution_count": 3,
     "metadata": {},
     "output_type": "execute_result"
    }
   ],
   "source": [
    "df.memory_usage(deep=True).sum()"
   ]
  },
  {
   "cell_type": "code",
   "execution_count": 4,
   "id": "76817303",
   "metadata": {},
   "outputs": [],
   "source": [
    "df['Date'] = pd.to_datetime(df['Date'])\n",
    "df['State'] = df['State'].astype('category')\n",
    "df['Region'] = df['Region'].astype('category')\n",
    "df['Confirmed'] = df['Confirmed'].astype('int16')\n",
    "df['Deaths'] = df['Deaths'].astype('int16')\n",
    "df['Recovered'] = df['Recovered'].astype('int16')"
   ]
  },
  {
   "cell_type": "code",
   "execution_count": 5,
   "id": "edaae2be",
   "metadata": {},
   "outputs": [
    {
     "data": {
      "text/plain": [
       "35694"
      ]
     },
     "execution_count": 5,
     "metadata": {},
     "output_type": "execute_result"
    }
   ],
   "source": [
    "df.memory_usage(deep=True).sum()"
   ]
  },
  {
   "cell_type": "code",
   "execution_count": 6,
   "id": "44afe8c8",
   "metadata": {},
   "outputs": [],
   "source": [
    "#find null values"
   ]
  },
  {
   "cell_type": "code",
   "execution_count": 7,
   "id": "7ab78d2b",
   "metadata": {},
   "outputs": [
    {
     "data": {
      "text/plain": [
       "array([False])"
      ]
     },
     "execution_count": 7,
     "metadata": {},
     "output_type": "execute_result"
    }
   ],
   "source": [
    "df['Date'].isnull().unique()"
   ]
  },
  {
   "cell_type": "code",
   "execution_count": 8,
   "id": "f8b5c8ca",
   "metadata": {},
   "outputs": [],
   "source": [
    "# Date dont have null values"
   ]
  },
  {
   "cell_type": "code",
   "execution_count": 9,
   "id": "fd8b49ba",
   "metadata": {},
   "outputs": [
    {
     "data": {
      "text/plain": [
       "array([ True, False])"
      ]
     },
     "execution_count": 9,
     "metadata": {},
     "output_type": "execute_result"
    }
   ],
   "source": [
    "df['State'].isnull().unique()"
   ]
  },
  {
   "cell_type": "code",
   "execution_count": 10,
   "id": "37ca5bca",
   "metadata": {},
   "outputs": [],
   "source": [
    "# state columns contains null values\n",
    "# now find the number of null values present"
   ]
  },
  {
   "cell_type": "code",
   "execution_count": 11,
   "id": "3068b63d",
   "metadata": {},
   "outputs": [
    {
     "data": {
      "text/plain": [
       "181"
      ]
     },
     "execution_count": 11,
     "metadata": {},
     "output_type": "execute_result"
    }
   ],
   "source": [
    "df['State'].isnull().sum()"
   ]
  },
  {
   "cell_type": "code",
   "execution_count": 12,
   "id": "e33d095b",
   "metadata": {},
   "outputs": [
    {
     "data": {
      "text/plain": [
       "Grand Princess                  2\n",
       "Recovered                       2\n",
       "Diamond Princess cruise ship    2\n",
       "Alabama                         1\n",
       "Oregon                          1\n",
       "                               ..\n",
       "Hawaii                          1\n",
       "Hainan                          1\n",
       "Guizhou                         1\n",
       "Guangxi                         1\n",
       "Zhejiang                        1\n",
       "Name: State, Length: 137, dtype: int64"
      ]
     },
     "execution_count": 12,
     "metadata": {},
     "output_type": "execute_result"
    }
   ],
   "source": [
    "df['State'].value_counts()"
   ]
  },
  {
   "cell_type": "code",
   "execution_count": 13,
   "id": "06632311",
   "metadata": {},
   "outputs": [
    {
     "data": {
      "text/plain": [
       "Date        State                  Region          Confirmed  Deaths  Recovered\n",
       "2020-04-29  Alabama                US              6912       256     0            1\n",
       "            Oregon                 US              2446       101     0            1\n",
       "            Northern Territory     Australia       28         0       25           1\n",
       "            Northwest Territories  Canada          5          0       0            1\n",
       "            Nova Scotia            Canada          935        28      0            1\n",
       "                                                                                  ..\n",
       "            Guangxi                Mainland China  254        2       252          1\n",
       "            Guangdong              Mainland China  1588       8       1557         1\n",
       "            Guam                   US              141        5       0            1\n",
       "            Guadeloupe             France          149        12      82           1\n",
       "            Zhejiang               Mainland China  1268       1       1263         1\n",
       "Length: 140, dtype: int64"
      ]
     },
     "execution_count": 13,
     "metadata": {},
     "output_type": "execute_result"
    }
   ],
   "source": [
    "df.value_counts()"
   ]
  },
  {
   "cell_type": "code",
   "execution_count": 14,
   "id": "a5a14c7f",
   "metadata": {},
   "outputs": [],
   "source": [
    "df.dropna(subset=['State'], inplace=True)"
   ]
  },
  {
   "cell_type": "code",
   "execution_count": 15,
   "id": "0350406c",
   "metadata": {},
   "outputs": [
    {
     "data": {
      "text/plain": [
       "33428"
      ]
     },
     "execution_count": 15,
     "metadata": {},
     "output_type": "execute_result"
    }
   ],
   "source": [
    "df.memory_usage(deep=True).sum()"
   ]
  },
  {
   "cell_type": "code",
   "execution_count": 16,
   "id": "e34e2206",
   "metadata": {},
   "outputs": [
    {
     "data": {
      "text/plain": [
       "Date        State                  Region          Confirmed  Deaths  Recovered\n",
       "2020-04-29  Alabama                US              6912       256     0            1\n",
       "            Oregon                 US              2446       101     0            1\n",
       "            Northern Territory     Australia       28         0       25           1\n",
       "            Northwest Territories  Canada          5          0       0            1\n",
       "            Nova Scotia            Canada          935        28      0            1\n",
       "                                                                                  ..\n",
       "            Guangxi                Mainland China  254        2       252          1\n",
       "            Guangdong              Mainland China  1588       8       1557         1\n",
       "            Guam                   US              141        5       0            1\n",
       "            Guadeloupe             France          149        12      82           1\n",
       "            Zhejiang               Mainland China  1268       1       1263         1\n",
       "Length: 140, dtype: int64"
      ]
     },
     "execution_count": 16,
     "metadata": {},
     "output_type": "execute_result"
    }
   ],
   "source": [
    "df.value_counts()"
   ]
  },
  {
   "cell_type": "code",
   "execution_count": 17,
   "id": "888069d6",
   "metadata": {},
   "outputs": [
    {
     "data": {
      "text/plain": [
       "array([False])"
      ]
     },
     "execution_count": 17,
     "metadata": {},
     "output_type": "execute_result"
    }
   ],
   "source": [
    "df['State'].isnull().unique()"
   ]
  },
  {
   "cell_type": "code",
   "execution_count": 18,
   "id": "46eed97d",
   "metadata": {},
   "outputs": [
    {
     "data": {
      "text/plain": [
       "array([False])"
      ]
     },
     "execution_count": 18,
     "metadata": {},
     "output_type": "execute_result"
    }
   ],
   "source": [
    "df['Region'].isnull().unique()"
   ]
  },
  {
   "cell_type": "code",
   "execution_count": 19,
   "id": "6f075325",
   "metadata": {},
   "outputs": [
    {
     "data": {
      "text/plain": [
       "array([False])"
      ]
     },
     "execution_count": 19,
     "metadata": {},
     "output_type": "execute_result"
    }
   ],
   "source": [
    "df['Confirmed'].isnull().unique()"
   ]
  },
  {
   "cell_type": "code",
   "execution_count": 20,
   "id": "8b850810",
   "metadata": {},
   "outputs": [
    {
     "data": {
      "text/plain": [
       "array([False])"
      ]
     },
     "execution_count": 20,
     "metadata": {},
     "output_type": "execute_result"
    }
   ],
   "source": [
    "df['Deaths'].isnull().unique()"
   ]
  },
  {
   "cell_type": "code",
   "execution_count": 21,
   "id": "d1148f4d",
   "metadata": {},
   "outputs": [
    {
     "data": {
      "text/plain": [
       "array([False])"
      ]
     },
     "execution_count": 21,
     "metadata": {},
     "output_type": "execute_result"
    }
   ],
   "source": [
    "df['Recovered'].isnull().unique()"
   ]
  },
  {
   "cell_type": "code",
   "execution_count": 22,
   "id": "06edb679",
   "metadata": {},
   "outputs": [
    {
     "data": {
      "text/html": [
       "<div>\n",
       "<style scoped>\n",
       "    .dataframe tbody tr th:only-of-type {\n",
       "        vertical-align: middle;\n",
       "    }\n",
       "\n",
       "    .dataframe tbody tr th {\n",
       "        vertical-align: top;\n",
       "    }\n",
       "\n",
       "    .dataframe thead th {\n",
       "        text-align: right;\n",
       "    }\n",
       "</style>\n",
       "<table border=\"1\" class=\"dataframe\">\n",
       "  <thead>\n",
       "    <tr style=\"text-align: right;\">\n",
       "      <th></th>\n",
       "      <th>Date</th>\n",
       "      <th>State</th>\n",
       "      <th>Region</th>\n",
       "      <th>Confirmed</th>\n",
       "      <th>Deaths</th>\n",
       "      <th>Recovered</th>\n",
       "    </tr>\n",
       "  </thead>\n",
       "  <tbody>\n",
       "    <tr>\n",
       "      <th>181</th>\n",
       "      <td>2020-04-29</td>\n",
       "      <td>Alabama</td>\n",
       "      <td>US</td>\n",
       "      <td>6912</td>\n",
       "      <td>256</td>\n",
       "      <td>0</td>\n",
       "    </tr>\n",
       "    <tr>\n",
       "      <th>182</th>\n",
       "      <td>2020-04-29</td>\n",
       "      <td>Alaska</td>\n",
       "      <td>US</td>\n",
       "      <td>355</td>\n",
       "      <td>9</td>\n",
       "      <td>0</td>\n",
       "    </tr>\n",
       "    <tr>\n",
       "      <th>183</th>\n",
       "      <td>2020-04-29</td>\n",
       "      <td>Alberta</td>\n",
       "      <td>Canada</td>\n",
       "      <td>5165</td>\n",
       "      <td>87</td>\n",
       "      <td>0</td>\n",
       "    </tr>\n",
       "    <tr>\n",
       "      <th>184</th>\n",
       "      <td>2020-04-29</td>\n",
       "      <td>Anguilla</td>\n",
       "      <td>UK</td>\n",
       "      <td>3</td>\n",
       "      <td>0</td>\n",
       "      <td>3</td>\n",
       "    </tr>\n",
       "    <tr>\n",
       "      <th>185</th>\n",
       "      <td>2020-04-29</td>\n",
       "      <td>Anhui</td>\n",
       "      <td>Mainland China</td>\n",
       "      <td>991</td>\n",
       "      <td>6</td>\n",
       "      <td>985</td>\n",
       "    </tr>\n",
       "  </tbody>\n",
       "</table>\n",
       "</div>"
      ],
      "text/plain": [
       "          Date     State          Region  Confirmed  Deaths  Recovered\n",
       "181 2020-04-29   Alabama              US       6912     256          0\n",
       "182 2020-04-29    Alaska              US        355       9          0\n",
       "183 2020-04-29   Alberta          Canada       5165      87          0\n",
       "184 2020-04-29  Anguilla              UK          3       0          3\n",
       "185 2020-04-29     Anhui  Mainland China        991       6        985"
      ]
     },
     "execution_count": 22,
     "metadata": {},
     "output_type": "execute_result"
    }
   ],
   "source": [
    "df.head()"
   ]
  },
  {
   "cell_type": "code",
   "execution_count": 23,
   "id": "be06383d",
   "metadata": {},
   "outputs": [
    {
     "data": {
      "text/html": [
       "<div>\n",
       "<style scoped>\n",
       "    .dataframe tbody tr th:only-of-type {\n",
       "        vertical-align: middle;\n",
       "    }\n",
       "\n",
       "    .dataframe tbody tr th {\n",
       "        vertical-align: top;\n",
       "    }\n",
       "\n",
       "    .dataframe thead th {\n",
       "        text-align: right;\n",
       "    }\n",
       "</style>\n",
       "<table border=\"1\" class=\"dataframe\">\n",
       "  <thead>\n",
       "    <tr style=\"text-align: right;\">\n",
       "      <th></th>\n",
       "      <th>Date</th>\n",
       "      <th>State</th>\n",
       "      <th>Region</th>\n",
       "      <th>Confirmed</th>\n",
       "      <th>Deaths</th>\n",
       "      <th>Recovered</th>\n",
       "      <th>Year</th>\n",
       "    </tr>\n",
       "  </thead>\n",
       "  <tbody>\n",
       "    <tr>\n",
       "      <th>181</th>\n",
       "      <td>2020-04-29</td>\n",
       "      <td>Alabama</td>\n",
       "      <td>US</td>\n",
       "      <td>6912</td>\n",
       "      <td>256</td>\n",
       "      <td>0</td>\n",
       "      <td>2020</td>\n",
       "    </tr>\n",
       "    <tr>\n",
       "      <th>182</th>\n",
       "      <td>2020-04-29</td>\n",
       "      <td>Alaska</td>\n",
       "      <td>US</td>\n",
       "      <td>355</td>\n",
       "      <td>9</td>\n",
       "      <td>0</td>\n",
       "      <td>2020</td>\n",
       "    </tr>\n",
       "    <tr>\n",
       "      <th>183</th>\n",
       "      <td>2020-04-29</td>\n",
       "      <td>Alberta</td>\n",
       "      <td>Canada</td>\n",
       "      <td>5165</td>\n",
       "      <td>87</td>\n",
       "      <td>0</td>\n",
       "      <td>2020</td>\n",
       "    </tr>\n",
       "    <tr>\n",
       "      <th>184</th>\n",
       "      <td>2020-04-29</td>\n",
       "      <td>Anguilla</td>\n",
       "      <td>UK</td>\n",
       "      <td>3</td>\n",
       "      <td>0</td>\n",
       "      <td>3</td>\n",
       "      <td>2020</td>\n",
       "    </tr>\n",
       "    <tr>\n",
       "      <th>185</th>\n",
       "      <td>2020-04-29</td>\n",
       "      <td>Anhui</td>\n",
       "      <td>Mainland China</td>\n",
       "      <td>991</td>\n",
       "      <td>6</td>\n",
       "      <td>985</td>\n",
       "      <td>2020</td>\n",
       "    </tr>\n",
       "  </tbody>\n",
       "</table>\n",
       "</div>"
      ],
      "text/plain": [
       "          Date     State          Region  Confirmed  Deaths  Recovered  Year\n",
       "181 2020-04-29   Alabama              US       6912     256          0  2020\n",
       "182 2020-04-29    Alaska              US        355       9          0  2020\n",
       "183 2020-04-29   Alberta          Canada       5165      87          0  2020\n",
       "184 2020-04-29  Anguilla              UK          3       0          3  2020\n",
       "185 2020-04-29     Anhui  Mainland China        991       6        985  2020"
      ]
     },
     "execution_count": 23,
     "metadata": {},
     "output_type": "execute_result"
    }
   ],
   "source": [
    "df['Year'] = df['Date'].dt.year\n",
    "df.head()"
   ]
  },
  {
   "cell_type": "code",
   "execution_count": 33,
   "id": "1d01ff1b",
   "metadata": {},
   "outputs": [
    {
     "data": {
      "text/plain": [
       "array([  6912,    355,   5165,      3,    991,   7209,   3193,    100,\n",
       "          106,    593,    111,      5,   2087,      6, -16789,     73,\n",
       "          537,    579,  14758,  26767,     16,   4655,      0,     49,\n",
       "         4106,     13,    187, -32343,    125,     58,    139,  25775,\n",
       "          141,    103,     11,    149,   1588,    254,    147,    168,\n",
       "          613,    328,    939,   1276,   1037,   2592,   1019,   1952,\n",
       "       -15178,  17182,    200,   6843,    313,    653,    937,   3839,\n",
       "         4537,    146,  27660,     45,   1056,    275,    175,  20849,\n",
       "        -5271,    460, -25137,   4644,   6569,   7660,    451,   3851,\n",
       "         4934,    118,     18,   2058, -14707,   3213,   3016, -27989,\n",
       "          258,     75,  10180,   1033,     14,     28,    935,  17303,\n",
       "         3473,  16978,   2446, -19209,     27,   1433,  26610,    420,\n",
       "         8247,      1,    383,    306,    787,    647,    197,    561,\n",
       "          438,   5882,   2373,     38,    219,  10366,  27257,    190,\n",
       "           12,   4497,    862,   1361,     57,  14962,  14070,   1110,\n",
       "          551,   6520,    545,     76,    185,   1268], dtype=int16)"
      ]
     },
     "execution_count": 33,
     "metadata": {},
     "output_type": "execute_result"
    }
   ],
   "source": [
    "df['Confirmed'].unique()"
   ]
  },
  {
   "cell_type": "code",
   "execution_count": 34,
   "id": "4219d3ac",
   "metadata": {},
   "outputs": [
    {
     "data": {
      "text/plain": [
       "array([  256,     9,    87,     0,     6,   308,    57,     2,     3,\n",
       "         109,     1,  1946,    38,   766,  2169,   144,   205,  1218,\n",
       "        1101,    12,     5,     8,    16,    13,    22,     4,  4512,\n",
       "          60,  2215,   964,   148,    21,   134,   234,  1845,    52,\n",
       "          14,  1078,  3405,  3670,   319,   250,   338,    56,   230,\n",
       "        6771,   112,    40, 23477,   382,    19,    28,   937,   214,\n",
       "        1153,   101,  2373,    86,  1762,   251,     7,   231,   195,\n",
       "         754,    45,    47,    18,   522,   801], dtype=int16)"
      ]
     },
     "execution_count": 34,
     "metadata": {},
     "output_type": "execute_result"
    }
   ],
   "source": [
    "df['Deaths'].unique()"
   ]
  },
  {
   "cell_type": "code",
   "execution_count": 35,
   "id": "00cb74a6",
   "metadata": {},
   "outputs": [],
   "source": [
    "df = df[(df['Confirmed'] >= 0) & (df['Deaths'] >= 0)]"
   ]
  },
  {
   "cell_type": "code",
   "execution_count": 24,
   "id": "5a076604",
   "metadata": {},
   "outputs": [
    {
     "data": {
      "text/html": [
       "<div>\n",
       "<style scoped>\n",
       "    .dataframe tbody tr th:only-of-type {\n",
       "        vertical-align: middle;\n",
       "    }\n",
       "\n",
       "    .dataframe tbody tr th {\n",
       "        vertical-align: top;\n",
       "    }\n",
       "\n",
       "    .dataframe thead th {\n",
       "        text-align: right;\n",
       "    }\n",
       "</style>\n",
       "<table border=\"1\" class=\"dataframe\">\n",
       "  <thead>\n",
       "    <tr style=\"text-align: right;\">\n",
       "      <th></th>\n",
       "      <th>Year</th>\n",
       "      <th>Date</th>\n",
       "      <th>State</th>\n",
       "      <th>Region</th>\n",
       "      <th>Confirmed</th>\n",
       "      <th>Deaths</th>\n",
       "      <th>Recovered</th>\n",
       "    </tr>\n",
       "  </thead>\n",
       "  <tbody>\n",
       "    <tr>\n",
       "      <th>181</th>\n",
       "      <td>2020</td>\n",
       "      <td>2020-04-29</td>\n",
       "      <td>Alabama</td>\n",
       "      <td>US</td>\n",
       "      <td>6912</td>\n",
       "      <td>256</td>\n",
       "      <td>0</td>\n",
       "    </tr>\n",
       "  </tbody>\n",
       "</table>\n",
       "</div>"
      ],
      "text/plain": [
       "     Year       Date    State Region  Confirmed  Deaths  Recovered\n",
       "181  2020 2020-04-29  Alabama     US       6912     256          0"
      ]
     },
     "execution_count": 24,
     "metadata": {},
     "output_type": "execute_result"
    }
   ],
   "source": [
    "# Reorder columns to place 'Year' at the first position\n",
    "df = df[['Year'] + [col for col in df.columns if col != 'Year']]\n",
    "df.head(1)"
   ]
  },
  {
   "cell_type": "code",
   "execution_count": 25,
   "id": "75295718",
   "metadata": {},
   "outputs": [],
   "source": [
    "# visualization"
   ]
  },
  {
   "cell_type": "code",
   "execution_count": 41,
   "id": "285ecab8",
   "metadata": {},
   "outputs": [
    {
     "data": {
      "image/png": "[encoded data removed]",
      "text/plain": [
       "<Figure size 1800x1800 with 1 Axes>"
      ]
     },
     "metadata": {
      "needs_background": "light"
     },
     "output_type": "display_data"
    }
   ],
   "source": [
    "import seaborn as sns\n",
    "plt.figure(figsize=(25, 25))\n",
    "sns.barplot(x='State', y='Confirmed', data=df)\n",
    "plt.xticks(rotation=90)\n",
    "plt.show()"
   ]
  },
  {
   "cell_type": "code",
   "execution_count": 44,
   "id": "4153a4f5",
   "metadata": {},
   "outputs": [
    {
     "data": {
      "image/png": "[encoded data removed]",
      "text/plain": [
       "<Figure size 432x432 with 1 Axes>"
      ]
     },
     "metadata": {},
     "output_type": "display_data"
    }
   ],
   "source": [
    "plt.figure(figsize=(6, 6))\n",
    "top_n_states = df.nlargest(10, 'Confirmed')\n",
    "plt.pie(top_n_states['Confirmed'], labels=top_n_states['State'], autopct='%1.1f%%')\n",
    "plt.title(f'Top 10 States by Confirmed Cases')\n",
    "plt.show()\n"
   ]
  },
  {
   "cell_type": "code",
   "execution_count": 58,
   "id": "ed3c325b",
   "metadata": {},
   "outputs": [
    {
     "name": "stderr",
     "output_type": "stream",
     "text": [
      "C:\\Users\\dell\\AppData\\Local\\Temp\\ipykernel_10336\\1671989680.py:4: FutureWarning: The default value of numeric_only in DataFrame.corr is deprecated. In a future version, it will default to False. Select only valid columns or specify the value of numeric_only to silence this warning.\n",
      "  correlation_matrix = df1.corr()\n"
     ]
    },
    {
     "data": {
      "image/png": "[encoded data removed]",
      "text/plain": [
       "<Figure size 504x504 with 2 Axes>"
      ]
     },
     "metadata": {
      "needs_background": "light"
     },
     "output_type": "display_data"
    }
   ],
   "source": [
    "col = ['State', 'Confirmed', 'Deaths', 'Recovered']\n",
    "df1 = df[col]\n",
    "plt.figure(figsize=(7, 7))\n",
    "correlation_matrix = df1.corr()\n",
    "sns.heatmap(correlation_matrix, annot=True, cmap='coolwarm')\n",
    "plt.title('Correlation Matrix')\n",
    "plt.show()"
   ]
  },
  {
   "cell_type": "markdown",
   "id": "9ddb7c54",
   "metadata": {},
   "source": [
    "Correlation between Confirmed and Deaths: The coefficient is 0.64, indicating a strong positive correlation. This means that as the number of confirmed cases increases, the number of deaths also tends to increase.\n",
    "\n",
    "Correlation between Confirmed and Recovered: The coefficient is -0.049, indicating a negative correlation. This means that as the number of confirmed cases increases, the number of recoveries tends to decrease.\n",
    "\n",
    "Correlation between Deaths and Recovered: The coefficient is -0.1, indicating a strong negative correlation. This means that as the number of deaths increases, the number of recoveries tends to decrease."
   ]
  }
 ],
 "metadata": {
  "kernelspec": {
   "display_name": "Python 3 (ipykernel)",
   "language": "python",
   "name": "python3"
  },
  "language_info": {
   "codemirror_mode": {
    "name": "ipython",
    "version": 3
   },
   "file_extension": ".py",
   "mimetype": "text/x-python",
   "name": "python",
   "nbconvert_exporter": "python",
   "pygments_lexer": "ipython3",
   "version": "3.9.12"
  }
 },
 "nbformat": 4,
 "nbformat_minor": 5
}
